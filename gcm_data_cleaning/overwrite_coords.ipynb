{
 "cells": [
  {
   "cell_type": "markdown",
   "id": "3b49a5db-99c7-40d7-be5b-9822d86986bb",
   "metadata": {},
   "source": [
    "# Overwrite bad coordinates in CMIP6 data\n",
    "Some CMIP6 datasets have mismatched coordinates and datatypes in different simulations. This script fixes these problems."
   ]
  },
  {
   "cell_type": "code",
   "execution_count": null,
   "id": "54d2544c-4c7e-487b-b1ef-4d50e791a6f0",
   "metadata": {
    "tags": []
   },
   "outputs": [],
   "source": [
    "from sup3r.preprocessing.data_handling import DataHandlerNCforCC\n",
    "from sup3r.preprocessing.data_handling import DataHandlerNCforCCwithPowerLaw\n",
    "from sup3r.bias.bias_calc import SkillAssessment\n",
    "import numpy as np\n",
    "import matplotlib.pyplot as plt\n",
    "import os \n",
    "import glob\n",
    "\n",
    "import xarray as xr\n",
    "\n",
    "import warnings\n",
    "warnings.filterwarnings('ignore')"
   ]
  },
  {
   "cell_type": "markdown",
   "id": "4b45e121-1864-4d63-b0e4-6ad17f0a5a0b",
   "metadata": {},
   "source": [
    "## Primary Function"
   ]
  },
  {
   "cell_type": "code",
   "execution_count": null,
   "id": "a89eb474-5585-4d69-ac46-ec00491c6bce",
   "metadata": {
    "tags": []
   },
   "outputs": [],
   "source": [
    "def overwrite_lat_lon_xarray(overwrite_file, source_file, output_file):\n",
    "    # Open the overwrite file using xarray\n",
    "    overwrite_ds = xr.open_dataset(overwrite_file)\n",
    "\n",
    "    # Open the source file using xarray\n",
    "    source_ds = xr.open_dataset(source_file)\n",
    "\n",
    "    try:\n",
    "        # Extract latitude and longitude values from the source file\n",
    "        source_lat_bnds = source_ds['lat_bnds'].values\n",
    "        source_lon_bnds = source_ds['lon_bnds'].values\n",
    "        \n",
    "        source_lat = source_ds['lat'].values\n",
    "        source_lon = source_ds['lon'].values\n",
    "\n",
    "        # Overwrite latitude and longitude values in the overwrite file (including dtypes!!)\n",
    "        overwrite_ds['lat_bnds'] = source_ds['lat_bnds']\n",
    "        overwrite_ds['lon_bnds'] = source_ds['lon_bnds']\n",
    "        overwrite_ds['lat_bnds'].values = source_ds['lat_bnds'].values\n",
    "        overwrite_ds['lon_bnds'].values = source_ds['lon_bnds'].values\n",
    "        overwrite_ds = overwrite_ds.assign_coords(lat=source_lat, lon=source_lon)\n",
    "        \n",
    "\n",
    "        # Save the modified overwrite to a new file\n",
    "        overwrite_ds.to_netcdf(output_file)\n",
    "        print(f\"Latitude and longitude values in {overwrite_file} have been overwritten using data from {source_file} with destination: {output_file}.\")\n",
    "    except Exception as e:\n",
    "        print(f\"An error occurred: {e}\")\n",
    "    finally:\n",
    "        # Close the xarray datasets\n",
    "        overwrite_ds.close()\n",
    "        source_ds.close()\n"
   ]
  },
  {
   "cell_type": "code",
   "execution_count": null,
   "id": "658e08e6-7304-470d-88e2-be8f6b664d45",
   "metadata": {
    "tags": []
   },
   "outputs": [],
   "source": [
    "# gbuster usage\n",
    "source_file = \"/projects/alcaps/cmip6/CESM2-WACCM/ua_day_CESM2-WACCM_ssp585_r3i1p1f1_gn_20150101-20241231.nc\"\n",
    "\n",
    "# bad_files = [\n",
    "#     '/projects/alcaps/cmip6/CESM2-WACCM/orog_fx_CESM2-WACCM_ssp585_r3i1p1f1_gn.nc',\n",
    "#     '/projects/alcaps/cmip6/CESM2-WACCM/ua_day_CESM2-WACCM_historical_r3i1p1f1_gn_20000101-20091231.nc',\n",
    "#     '/projects/alcaps/cmip6/CESM2-WACCM/ua_day_CESM2-WACCM_historical_r3i1p1f1_gn_20100101-20141231.nc',\n",
    "#     '/projects/alcaps/cmip6/CESM2-WACCM/va_day_CESM2-WACCM_historical_r3i1p1f1_gn_20000101-20091231.nc',\n",
    "#     '/projects/alcaps/cmip6/CESM2-WACCM/va_day_CESM2-WACCM_historical_r3i1p1f1_gn_20100101-20141231.nc',\n",
    "#     '/projects/alcaps/cmip6/CESM2-WACCM/zg_day_CESM2-WACCM_historical_r3i1p1f1_gn_20000101-20091231.nc',\n",
    "#     '/projects/alcaps/cmip6/CESM2-WACCM/zg_day_CESM2-WACCM_historical_r3i1p1f1_gn_20100101-20141231.nc',\n",
    "# ]\n",
    "\n",
    "\n",
    "bad_files = [\n",
    "    '/projects/alcaps/cmip6/CESM2-WACCM/ua_day_CESM2-WACCM_historical_r3i1p1f1_gn_19800101-19891231.nc',\n",
    "    '/projects/alcaps/cmip6/CESM2-WACCM/ua_day_CESM2-WACCM_historical_r3i1p1f1_gn_19900101-19991231.nc',\n",
    "    '/projects/alcaps/cmip6/CESM2-WACCM/va_day_CESM2-WACCM_historical_r3i1p1f1_gn_19800101-19891231.nc',\n",
    "    '/projects/alcaps/cmip6/CESM2-WACCM/va_day_CESM2-WACCM_historical_r3i1p1f1_gn_19900101-19991231.nc',\n",
    "    '/projects/alcaps/cmip6/CESM2-WACCM/zg_day_CESM2-WACCM_historical_r3i1p1f1_gn_19800101-19891231.nc',\n",
    "    '/projects/alcaps/cmip6/CESM2-WACCM/zg_day_CESM2-WACCM_historical_r3i1p1f1_gn_19900101-19991231.nc'\n",
    "]\n",
    "\n",
    "for bad_file in bad_files:\n",
    "    output_file = bad_file.replace('.nc', '_overwrite_coords.nc')\n",
    "    overwrite_lat_lon_xarray(bad_file, source_file, output_file)"
   ]
  },
  {
   "cell_type": "code",
   "execution_count": null,
   "id": "704b01d3-0f53-4705-8e02-1caa5e1284a3",
   "metadata": {
    "tags": []
   },
   "outputs": [],
   "source": [
    "source_file = \"/projects/alcaps/cmip6/CESM2/ua_day_CESM2_ssp585_r4i1p1f1_gn_20150101-20241231.nc\"\n",
    "#source_file = '/projects/alcaps/cmip6/CESM2/pr_day_CESM2_historical_r4i1p1f1_gn_20000101-20091231_overwrite_coords.nc'\n",
    "\n",
    "# bad_files = [\n",
    "#  # '/projects/alcaps/cmip6/CESM2/orog_fx_CESM2_ssp585_r4i1p1f1_gn.nc',\n",
    "#  # '/projects/alcaps/cmip6/CESM2/ua_day_CESM2_historical_r4i1p1f1_gn_20000101-20091231.nc',\n",
    "#  # '/projects/alcaps/cmip6/CESM2/ua_day_CESM2_historical_r4i1p1f1_gn_20100101-20141231.nc',\n",
    "#  # '/projects/alcaps/cmip6/CESM2/va_day_CESM2_historical_r4i1p1f1_gn_20000101-20091231.nc',\n",
    "#  # '/projects/alcaps/cmip6/CESM2/va_day_CESM2_historical_r4i1p1f1_gn_20100101-20141231.nc',\n",
    "#  # '/projects/alcaps/cmip6/CESM2/zg_day_CESM2_historical_r4i1p1f1_gn_20000101-20091231.nc',\n",
    "#  # '/projects/alcaps/cmip6/CESM2/zg_day_CESM2_historical_r4i1p1f1_gn_20100101-20141231.nc',\n",
    "#     '/projects/alcaps/cmip6/CESM2/pr_day_CESM2_historical_r4i1p1f1_gn_20100101-20150103.nc',\n",
    "# ]\n",
    "\n",
    "bad_files = [\n",
    "    '/projects/alcaps/cmip6/CESM2/ua_day_CESM2_historical_r4i1p1f1_gn_19800101-19891231.nc',\n",
    "    '/projects/alcaps/cmip6/CESM2/ua_day_CESM2_historical_r4i1p1f1_gn_19900101-19991231.nc',\n",
    "    '/projects/alcaps/cmip6/CESM2/va_day_CESM2_historical_r4i1p1f1_gn_19800101-19891231.nc',\n",
    "    '/projects/alcaps/cmip6/CESM2/va_day_CESM2_historical_r4i1p1f1_gn_19900101-19991231.nc',\n",
    "    '/projects/alcaps/cmip6/CESM2/zg_day_CESM2_historical_r4i1p1f1_gn_19800101-19891231.nc',\n",
    "    '/projects/alcaps/cmip6/CESM2/zg_day_CESM2_historical_r4i1p1f1_gn_19900101-19991231.nc'\n",
    "]\n",
    "\n",
    "for bad_file in bad_files:\n",
    "    output_file = bad_file.replace('.nc', '_overwrite_coords.nc')\n",
    "    overwrite_lat_lon_xarray(bad_file, source_file, output_file)"
   ]
  },
  {
   "cell_type": "code",
   "execution_count": null,
   "id": "e11f7d3d-61c8-4ea0-933e-3c8525138b2b",
   "metadata": {},
   "outputs": [],
   "source": []
  }
 ],
 "metadata": {
  "kernelspec": {
   "display_name": "Python 3 (ipykernel)",
   "language": "python",
   "name": "python3"
  },
  "language_info": {
   "codemirror_mode": {
    "name": "ipython",
    "version": 3
   },
   "file_extension": ".py",
   "mimetype": "text/x-python",
   "name": "python",
   "nbconvert_exporter": "python",
   "pygments_lexer": "ipython3",
   "version": "3.9.18"
  }
 },
 "nbformat": 4,
 "nbformat_minor": 5
}
