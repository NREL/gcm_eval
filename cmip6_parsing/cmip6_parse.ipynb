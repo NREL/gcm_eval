{
 "cells": [
  {
   "cell_type": "markdown",
   "id": "e7ad3436-53f1-41d5-89bb-203441f8de96",
   "metadata": {},
   "source": [
    "# Parse CMIP6 models \n",
    "Identify models that contain all variables of interest and meet the required spatiotemporal resolution."
   ]
  },
  {
   "cell_type": "code",
   "execution_count": null,
   "id": "dd265248-1a2e-4b35-aa5a-e23610de0463",
   "metadata": {
    "tags": []
   },
   "outputs": [],
   "source": [
    "from pyesgf.search import SearchConnection\n",
    "import os\n",
    "from glob import glob\n",
    "import json\n",
    "import pandas as pd\n",
    "import collections\n",
    "import numpy as np\n",
    "\n",
    "os.environ[\"ESGF_PYCLIENT_NO_FACETS_STAR_WARNING\"] = '1'"
   ]
  },
  {
   "cell_type": "code",
   "execution_count": null,
   "id": "972ab934-72fb-4b40-b0a2-a23d3293d239",
   "metadata": {
    "tags": []
   },
   "outputs": [],
   "source": [
    "CONN = SearchConnection('https://esgf-node.llnl.gov/esg-search', distrib=True)"
   ]
  },
  {
   "cell_type": "code",
   "execution_count": null,
   "id": "3d6d6f51-8577-48b2-a236-60cc8b1af1c6",
   "metadata": {
    "tags": []
   },
   "outputs": [],
   "source": [
    "ctx = CONN.new_context(\n",
    "        project='CMIP6',\n",
    "        experiment_id='historical',\n",
    "        variable='tas',\n",
    "        nominal_resolution='100 km',\n",
    "        frequency='day',\n",
    "        facets='project,experiment_family,experiment_id',\n",
    "    )"
   ]
  },
  {
   "cell_type": "markdown",
   "id": "74812a4f-47d9-4eaf-97c6-fa10018092e4",
   "metadata": {
    "tags": []
   },
   "source": [
    "## Function to interact with ESGF"
   ]
  },
  {
   "cell_type": "code",
   "execution_count": null,
   "id": "aa5f9076-23d5-4e5c-8aae-9148ddeca4d1",
   "metadata": {
    "tags": []
   },
   "outputs": [],
   "source": [
    "def search_for_projects(var='hurs', ssp='ssp585'):\n",
    "    ctx = CONN.new_context(\n",
    "        project='CMIP6',\n",
    "        experiment_id=ssp,\n",
    "        variable=var,\n",
    "        nominal_resolution='100 km',\n",
    "        frequency='day',\n",
    "        facets='project,experiment_family,experiment_id',\n",
    "    )\n",
    "    return list(ctx.search())\n",
    "\n",
    "\n",
    "def clean_search(search):\n",
    "    out = {}\n",
    "    for s in search:\n",
    "        files = s.file_context().search()\n",
    "        if any(files):\n",
    "            urls = [f.download_url for f in list(files)]\n",
    "            out[s.dataset_id] = urls\n",
    "    return out"
   ]
  },
  {
   "cell_type": "markdown",
   "id": "d88095fd-2298-4ef7-a337-c06d5f42f9c7",
   "metadata": {
    "tags": []
   },
   "source": [
    "## Download data for all variables of interest"
   ]
  },
  {
   "cell_type": "code",
   "execution_count": null,
   "id": "d4908ab2-70d1-4b89-bfc4-678f65a6c11a",
   "metadata": {
    "tags": []
   },
   "outputs": [],
   "source": [
    "for var in ['va', 'rsds', 'tas', 'tasmax', 'tasmin', 'hursmax', 'hurs', 'hursmin', 'pr', 'zg', 'ua', 'orog', 'uas', 'vas']:\n",
    "    fp_out = f'./cmip6_meta_{var}_historical.json'\n",
    "    \n",
    "    if not os.path.exists(fp_out):\n",
    "        print(fp_out)\n",
    "        search = search_for_projects(var=var, ssp='historical')\n",
    "        out = clean_search(search)\n",
    "\n",
    "        with open(fp_out, 'w') as f:\n",
    "            json.dump(out, f, indent=2, sort_keys=True)"
   ]
  },
  {
   "cell_type": "markdown",
   "id": "c6fbb495-0830-4308-9992-8fa7a6c05a8a",
   "metadata": {
    "tags": []
   },
   "source": [
    "## Identify Models that meet all criteria"
   ]
  },
  {
   "cell_type": "code",
   "execution_count": null,
   "id": "eab75623-9210-4c65-b97d-09e1efb4bc45",
   "metadata": {
    "tags": []
   },
   "outputs": [],
   "source": [
    "#create empty dataframe\n",
    "df = pd.DataFrame(columns =['model','frequency', 'resolution', 'start_date','end_date'])\n",
    "#iterate over desired variables -- enter in search_for projects\n",
    "for x in ['va', 'rsds', 'tas', 'tasmax', 'tasmin', 'hursmax', 'hurs', 'hursmin', 'pr', 'zg', 'ua', 'uas', 'vas']:\n",
    "    var = x\n",
    "    search = search_for_projects(var = var, ssp='ssp585')\n",
    "    #access each json in search object\n",
    "    for i in range(0,len(search)):\n",
    "        d = search[i].json\n",
    "        #pull desired info from each file\n",
    "        model = d['id']\n",
    "        if 'datetime_start' in d:\n",
    "            start_date = d['datetime_start']\n",
    "        else:\n",
    "            start_date = np.NaN\n",
    "        if 'datetime_stop' in d:\n",
    "            end_date = d['datetime_stop']\n",
    "        else:\n",
    "            end_date = np.NaN\n",
    "        freq = d['frequency']\n",
    "        res = d['nominal_resolution']\n",
    "        #add info to list and previously created df\n",
    "        vals = [model, freq, res, start_date, end_date]\n",
    "        df.loc[len(df)] = vals\n",
    "\n",
    "#split model id variables to get model, scenario, variant, and variable\n",
    "df[['model','scenario', 'variant','variable']] = df['model'].str.split('.' , expand = True).iloc[:,[3,4,5,7]]\n",
    "#unpack nested cols\n",
    "df = df.explode('resolution')\n",
    "df = df.explode('frequency')\n",
    "\n",
    "#view df -- each row is a variable/model combo\n",
    "df.head()"
   ]
  },
  {
   "cell_type": "code",
   "execution_count": null,
   "id": "c312ac8a-7140-4698-beb4-d4b6e9f96be6",
   "metadata": {
    "tags": []
   },
   "outputs": [],
   "source": [
    "#Ensure all start dates are beginning of 2015\n",
    "df = df[(df.start_date <= '2015-01-01T12:00:00Z')]\n",
    "#drop record if start date is missing\n",
    "df = df.dropna(subset=['start_date'])"
   ]
  },
  {
   "cell_type": "markdown",
   "id": "5052bd31-b1a1-47c7-984e-76ca64d7e160",
   "metadata": {
    "tags": []
   },
   "source": [
    "### Models that meet minimum variable requirements"
   ]
  },
  {
   "cell_type": "code",
   "execution_count": null,
   "id": "a81d740e-c280-4dd1-aa43-86e20fd5c3a1",
   "metadata": {
    "tags": []
   },
   "outputs": [],
   "source": [
    "models =[]\n",
    "min_vars = ['rsds', 'tas', 'tasmax', 'tasmin', 'hurs', 'pr']\n",
    "\n",
    "for i in df.model.unique():\n",
    "    model_df = df[df.model == i]\n",
    "    column_values = model_df['variable'].tolist()\n",
    "    \n",
    "    if all(value in column_values for value in min_vars):\n",
    "        models.append(i)\n",
    "\n",
    "models"
   ]
  },
  {
   "cell_type": "markdown",
   "id": "e66fc2ea-6958-4f83-beab-9bc179bb06d3",
   "metadata": {},
   "source": [
    "### Models that contain all variables of interest"
   ]
  },
  {
   "cell_type": "code",
   "execution_count": null,
   "id": "91640d6f-d24e-450f-a099-0ad8452686b9",
   "metadata": {
    "tags": []
   },
   "outputs": [],
   "source": [
    "models_all =[]\n",
    "all_vars = ['va', 'rsds', 'tas', 'tasmax', 'tasmin', 'hursmax', 'hurs', 'hursmin', 'pr', 'zg', 'ua']\n",
    "\n",
    "for i in df.model.unique():\n",
    "    model_df = df[df.model == i]\n",
    "    column_values = model_df['variable'].tolist()\n",
    "    \n",
    "    if all(value in column_values for value in all_vars):\n",
    "        models_all.append(i)\n",
    "\n",
    "models_all\n",
    "        "
   ]
  },
  {
   "cell_type": "code",
   "execution_count": null,
   "id": "4f4e5055-ec92-49ae-81d8-fc990da8bff5",
   "metadata": {
    "tags": []
   },
   "outputs": [],
   "source": [
    "#create df that only includes final models\n",
    "model_df= df[df['model'].isin(models)]\n",
    "\n",
    "#create model-variant combo to filter variants\n",
    "for i in model_df.index:\n",
    "    model_df.loc[i, 'model_variant'] = model_df.loc[i, 'model'] + '-' + model_df.loc[i, 'variant']\n",
    "\n",
    "model_df"
   ]
  },
  {
   "cell_type": "markdown",
   "id": "c7212929-cc2d-4394-95a9-3864ef1bc58a",
   "metadata": {},
   "source": [
    "## Retrieve download links for each model"
   ]
  },
  {
   "cell_type": "code",
   "execution_count": null,
   "id": "953fe418-19e3-46bd-bee3-bff2cf2ec8c8",
   "metadata": {
    "scrolled": true,
    "tags": []
   },
   "outputs": [],
   "source": [
    "variable_files = glob('./*.json')\n",
    "model_links = pd.DataFrame()\n",
    "\n",
    "sim = 'ssp585'\n",
    "variant = 'r1i1p1f1'\n",
    "node = 'esgf-data1.llnl.gov'\n",
    "\n",
    "for m in models:\n",
    "    out_fp = f\"{m.lower().replace('-', '')}_{sim}_links.csv\"\n",
    "    for j in variable_files:\n",
    "        with open(j) as f:\n",
    "            file = json.load(f)\n",
    "        for x in file:\n",
    "            if (m in x) & (sim in x) & (variant in x) & (node in x):\n",
    "                temp = pd.DataFrame(file[x])\n",
    "                model_links = pd.concat([model_links, temp], axis = 0)\n",
    "                \n",
    "    model_links.to_csv(out_fp, index = False)\n",
    "    print(f\"Links written to {out_fp}.\")"
   ]
  },
  {
   "cell_type": "code",
   "execution_count": null,
   "id": "fafd9689-85be-4f3c-b8d3-4ccde4194cad",
   "metadata": {},
   "outputs": [],
   "source": []
  }
 ],
 "metadata": {
  "kernelspec": {
   "display_name": "Python 3 (ipykernel)",
   "language": "python",
   "name": "python3"
  },
  "language_info": {
   "codemirror_mode": {
    "name": "ipython",
    "version": 3
   },
   "file_extension": ".py",
   "mimetype": "text/x-python",
   "name": "python",
   "nbconvert_exporter": "python",
   "pygments_lexer": "ipython3",
   "version": "3.11.3"
  }
 },
 "nbformat": 4,
 "nbformat_minor": 5
}
