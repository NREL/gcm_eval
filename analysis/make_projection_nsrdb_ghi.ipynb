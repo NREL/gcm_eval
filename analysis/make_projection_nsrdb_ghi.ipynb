{
 "cells": [
  {
   "cell_type": "markdown",
   "id": "3693e7d5-fc6e-4363-95cb-e95c49b6e3ee",
   "metadata": {},
   "source": [
    "# Make NSRDB Projection Data\n",
    "Collect NSRDB data and make projection files per region"
   ]
  },
  {
   "cell_type": "code",
   "execution_count": null,
   "id": "958fb244-860c-4e06-9f5a-722f60f00f54",
   "metadata": {},
   "outputs": [],
   "source": [
    "%load_ext autoreload\n",
    "%autoreload 2"
   ]
  },
  {
   "cell_type": "code",
   "execution_count": null,
   "id": "6e52c1e0-6026-42dc-ac98-73db969b4037",
   "metadata": {},
   "outputs": [],
   "source": [
    "import os\n",
    "from glob import glob\n",
    "import json\n",
    "import geopandas as gpd\n",
    "import pandas as pd\n",
    "import numpy as np\n",
    "import logging\n",
    "from concurrent.futures import ProcessPoolExecutor\n",
    "import matplotlib.pyplot as plt\n",
    "import xarray as xr\n",
    "\n",
    "from rex import Resource, MultiYearNSRDB, init_logger\n",
    "from region_classifier import RegionClassifier\n",
    "\n",
    "from sup3r.preprocessing.data_handling.base import DataHandler\n",
    "from sup3r.preprocessing.data_handling import DataHandlerNCforCC\n",
    "from sup3r.preprocessing.data_handling import DataHandlerNCforCCwithPowerLaw\n",
    "from sup3r.bias.bias_calc import SkillAssessment\n",
    "\n",
    "from make_projection_summaries_cmip import get_fps, get_targets_shapes, make_summary_files, FEATURES, MODELS, TAGS, REGIONS\n",
    "\n",
    "DataHandlerNCforCC.CHUNKS = {'time': None, 'lat': None, 'lon': None}"
   ]
  },
  {
   "cell_type": "code",
   "execution_count": null,
   "id": "c295f3b0-0312-4d0e-b095-d9d01a81e53a",
   "metadata": {},
   "outputs": [],
   "source": [
    "logger = logging.getLogger(__name__)\n",
    "init_logger(__name__)\n",
    "init_logger('make_projection_summaries')\n",
    "init_logger('sup3r', log_level='DEBUG')"
   ]
  },
  {
   "cell_type": "code",
   "execution_count": null,
   "id": "c5abd7b3-9bc3-4a92-966c-4325bbcb27eb",
   "metadata": {},
   "outputs": [],
   "source": [
    "res = MultiYearNSRDB('/kfs2/pdatasets/NSRDB/current/nsrdb_2*.h5')"
   ]
  },
  {
   "cell_type": "code",
   "execution_count": null,
   "id": "2f49be88-3842-4eca-a9b3-f7526c7c7e88",
   "metadata": {},
   "outputs": [],
   "source": [
    "nsrdb_dset = 'ghi'\n",
    "out_dset = 'rsds'"
   ]
  },
  {
   "cell_type": "code",
   "execution_count": null,
   "id": "9b63f211-d4ab-4d11-95e8-31be525b6c9c",
   "metadata": {},
   "outputs": [],
   "source": [
    "def read(i_split_gids):\n",
    "    with MultiYearNSRDB('/kfs2/pdatasets/NSRDB/current/nsrdb_2*.h5') as res:\n",
    "        out = res[nsrdb_dset, :, i_split_gids].sum(axis=1).astype(np.float32)\n",
    "    return out"
   ]
  },
  {
   "cell_type": "code",
   "execution_count": null,
   "id": "e1db2ea3-eb8a-4302-959d-045fa6806dbc",
   "metadata": {},
   "outputs": [],
   "source": [
    "for region, rstates in REGIONS.items():\n",
    "    region = region.lower().replace(' ', '_')\n",
    "\n",
    "    if region != 'conus':\n",
    "        mask = res.meta['state'].isin(rstates)\n",
    "        assert len(res.meta.loc[mask, 'state'].unique()) == len(rstates)\n",
    "        rgids = np.where(mask)[0]\n",
    "    \n",
    "        fp_out = f'./projections/{region}_nsrdb_{out_dset}.csv'\n",
    "        if not os.path.exists(fp_out):\n",
    "            logger.info(f'Working on {region}')\n",
    "            split_gids = np.array_split(rgids, 100)\n",
    "            futures = []\n",
    "            out = 0\n",
    "            with ProcessPoolExecutor() as exe:\n",
    "                for i_split_gids in split_gids:\n",
    "                    future = exe.submit(read, i_split_gids)\n",
    "                    futures.append(future)\n",
    "                \n",
    "                for i, (future, i_split_gids) in enumerate(zip(futures, split_gids)):\n",
    "                    out += future.result()\n",
    "                    logger.info('Finished future {} out of {}'.format(i+1, len(futures)))\n",
    "            \n",
    "            out /= len(rgids)\n",
    "            \n",
    "            df = pd.DataFrame({'NSRDB': out}, index=res.time_index)\n",
    "            df.to_csv(fp_out)\n",
    "            logger.info(f'Saved: {fp_out}')\n"
   ]
  },
  {
   "cell_type": "code",
   "execution_count": null,
   "id": "af5f10f3-4771-47e3-9954-09b1fbbc2900",
   "metadata": {},
   "outputs": [],
   "source": [
    "df_conus = None\n",
    "idfs = {}\n",
    "n_total = 0\n",
    "for region, rstates in REGIONS.items():\n",
    "    region = region.lower().replace(' ', '_')\n",
    "\n",
    "    if region != 'conus':\n",
    "        mask = res.meta['state'].isin(rstates)\n",
    "        assert len(res.meta.loc[mask, 'state'].unique()) == len(rstates)\n",
    "        rgids = np.where(mask)[0]\n",
    "    \n",
    "        fp_out = f'./projections/{region}_nsrdb_{out_dset}.csv'\n",
    "\n",
    "        idf = pd.read_csv(fp_out, index_col=0)\n",
    "        idf.index = pd.to_datetime(idf.index)\n",
    "        idfs[region] = idf.copy()\n",
    "        idf *= len(rgids)\n",
    "        n_total += len(rgids)\n",
    "\n",
    "        if df_conus is None:\n",
    "            df_conus = idf.copy()\n",
    "        else:\n",
    "            df_conus += idf.copy()\n",
    "\n",
    "df_conus /= n_total"
   ]
  },
  {
   "cell_type": "code",
   "execution_count": null,
   "id": "dc498c15-4bd9-4fd3-871d-dc3e9b78c4a4",
   "metadata": {},
   "outputs": [],
   "source": [
    "df_conus.to_csv(f'./projections/conus_nsrdb_{out_dset}.csv')\n",
    "df_conus"
   ]
  },
  {
   "cell_type": "code",
   "execution_count": null,
   "id": "bef667ce-b35a-4621-a59b-5e7912862c2d",
   "metadata": {},
   "outputs": [],
   "source": [
    "fig, ax = plt.subplots(1, 1, figsize=(15, 5))\n",
    "df_conus.rolling(365*10).mean().iloc[::1000].plot(ax=ax)\n",
    "idfs['south'].rolling(365*10).mean().iloc[::1000].plot(ax=ax)"
   ]
  },
  {
   "cell_type": "code",
   "execution_count": null,
   "id": "e22ce090-7572-4f05-9d6d-d9b7f6545ef7",
   "metadata": {},
   "outputs": [],
   "source": []
  },
  {
   "cell_type": "code",
   "execution_count": null,
   "id": "c92575f3-ea64-43ab-a8a5-f0e49eefc962",
   "metadata": {},
   "outputs": [],
   "source": []
  },
  {
   "cell_type": "code",
   "execution_count": null,
   "id": "4dabefce-33e3-4943-b9e4-e9801691f0df",
   "metadata": {},
   "outputs": [],
   "source": []
  }
 ],
 "metadata": {
  "kernelspec": {
   "display_name": "Python 3 (ipykernel)",
   "language": "python",
   "name": "python3"
  },
  "language_info": {
   "codemirror_mode": {
    "name": "ipython",
    "version": 3
   },
   "file_extension": ".py",
   "mimetype": "text/x-python",
   "name": "python",
   "nbconvert_exporter": "python",
   "pygments_lexer": "ipython3",
   "version": "3.9.18"
  }
 },
 "nbformat": 4,
 "nbformat_minor": 5
}
