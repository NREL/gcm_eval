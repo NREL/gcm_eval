{
 "cells": [
  {
   "cell_type": "markdown",
   "id": "46c23fe7-5996-4188-bb5b-b9506749adf2",
   "metadata": {},
   "source": [
    "# Make Daymet Projection Data\n",
    "Collect daymet data and make projection files per region"
   ]
  },
  {
   "cell_type": "code",
   "execution_count": null,
   "id": "958fb244-860c-4e06-9f5a-722f60f00f54",
   "metadata": {},
   "outputs": [],
   "source": [
    "%load_ext autoreload\n",
    "%autoreload 2"
   ]
  },
  {
   "cell_type": "code",
   "execution_count": null,
   "id": "6e52c1e0-6026-42dc-ac98-73db969b4037",
   "metadata": {},
   "outputs": [],
   "source": [
    "import os\n",
    "from glob import glob\n",
    "import json\n",
    "import geopandas as gpd\n",
    "import pandas as pd\n",
    "import numpy as np\n",
    "import logging\n",
    "from concurrent.futures import ProcessPoolExecutor\n",
    "import matplotlib.pyplot as plt\n",
    "import xarray as xr\n",
    "\n",
    "from rex import Resource, MultiYearResource, init_logger\n",
    "from region_classifier import RegionClassifier\n",
    "\n",
    "from sup3r.preprocessing.data_handling.base import DataHandler\n",
    "from sup3r.preprocessing.data_handling import DataHandlerNCforCC\n",
    "from sup3r.preprocessing.data_handling import DataHandlerNCforCCwithPowerLaw\n",
    "from sup3r.bias.bias_calc import SkillAssessment\n",
    "\n",
    "from make_projection_summaries_cmip import get_fps, get_states_shape, get_targets_shapes, make_summary_files, FEATURES, MODELS, TAGS, REGIONS\n",
    "\n",
    "DataHandlerNCforCC.CHUNKS = {'time': None, 'lat': None, 'lon': None}"
   ]
  },
  {
   "cell_type": "code",
   "execution_count": null,
   "id": "c295f3b0-0312-4d0e-b095-d9d01a81e53a",
   "metadata": {},
   "outputs": [],
   "source": [
    "logger = logging.getLogger(__name__)\n",
    "init_logger(__name__)\n",
    "init_logger('make_projection_summaries')\n",
    "init_logger('sup3r', log_level='DEBUG')"
   ]
  },
  {
   "cell_type": "code",
   "execution_count": null,
   "id": "11b51186-4822-4c27-8805-483b712ada56",
   "metadata": {},
   "outputs": [],
   "source": [
    "fps = [f\"/projects/alcaps/daymet/DaymetV4_VIC4_pr_{y}.h5\" for y in range(1980, 2020)]"
   ]
  },
  {
   "cell_type": "code",
   "execution_count": null,
   "id": "c5abd7b3-9bc3-4a92-966c-4325bbcb27eb",
   "metadata": {},
   "outputs": [],
   "source": [
    "res = MultiYearResource(fps)"
   ]
  },
  {
   "cell_type": "code",
   "execution_count": null,
   "id": "f679f0c7-ce51-4f84-96f2-0b83dcc98857",
   "metadata": {},
   "outputs": [],
   "source": [
    "meta = res.meta\n",
    "states, states_col = get_states_shape()\n",
    "meta = RegionClassifier(meta, states, states_col).classify()\n",
    "meta = meta.rename({'NAME': 'state'}, axis=1)\n",
    "\n",
    "meta"
   ]
  },
  {
   "cell_type": "code",
   "execution_count": null,
   "id": "9b63f211-d4ab-4d11-95e8-31be525b6c9c",
   "metadata": {},
   "outputs": [],
   "source": [
    "def read(i_split_gids):\n",
    "    with MultiYearResource(fps) as res:\n",
    "        out = res['pr', :, i_split_gids].sum(axis=1)\n",
    "    return out"
   ]
  },
  {
   "cell_type": "code",
   "execution_count": null,
   "id": "e1db2ea3-eb8a-4302-959d-045fa6806dbc",
   "metadata": {},
   "outputs": [],
   "source": [
    "for region, rstates in REGIONS.items():\n",
    "    region = region.lower().replace(' ', '_')\n",
    "\n",
    "    if region != 'conus':\n",
    "        mask = meta['state'].isin(rstates)\n",
    "        assert len(meta.loc[mask, 'state'].unique()) == len(rstates)\n",
    "        rgids = np.where(mask)[0]\n",
    "    \n",
    "        fp_out = f'./projections/{region}_daymet_pr.csv'\n",
    "        if not os.path.exists(fp_out):\n",
    "            logger.info(f'Working on {region}')\n",
    "            split_gids = np.array_split(rgids, 100)\n",
    "            futures = []\n",
    "            out = 0\n",
    "            with ProcessPoolExecutor() as exe:\n",
    "                for i_split_gids in split_gids:\n",
    "                    future = exe.submit(read, i_split_gids)\n",
    "                    futures.append(future)\n",
    "                \n",
    "                for i, (future, i_split_gids) in enumerate(zip(futures, split_gids)):\n",
    "                    out += future.result()\n",
    "                    logger.info('Finished future {} out of {}'.format(i+1, len(futures)))\n",
    "            \n",
    "            out /= len(rgids)\n",
    "            \n",
    "            df = pd.DataFrame({'DAYMET': out}, index=res.time_index)\n",
    "            df.to_csv(fp_out)\n",
    "            logger.info(f'Saved: {fp_out}')\n"
   ]
  },
  {
   "cell_type": "code",
   "execution_count": null,
   "id": "af5f10f3-4771-47e3-9954-09b1fbbc2900",
   "metadata": {},
   "outputs": [],
   "source": [
    "df_conus = None\n",
    "idfs = {}\n",
    "n_total = 0\n",
    "for region, rstates in REGIONS.items():\n",
    "    region = region.lower().replace(' ', '_')\n",
    "\n",
    "    if region != 'conus':\n",
    "        mask = meta['state'].isin(rstates)\n",
    "        assert len(meta.loc[mask, 'state'].unique()) == len(rstates)\n",
    "        rgids = np.where(mask)[0]\n",
    "    \n",
    "        fp_out = f'./projections/{region}_daymet_pr.csv'\n",
    "\n",
    "        idf = pd.read_csv(fp_out, index_col=0)\n",
    "        idf.index = pd.to_datetime(idf.index)\n",
    "        idfs[region] = idf.copy()\n",
    "        idf *= len(rgids)\n",
    "        n_total += len(rgids)\n",
    "\n",
    "        if df_conus is None:\n",
    "            df_conus = idf.copy()\n",
    "        else:\n",
    "            df_conus += idf.copy()\n",
    "\n",
    "df_conus /= n_total"
   ]
  },
  {
   "cell_type": "code",
   "execution_count": null,
   "id": "dc498c15-4bd9-4fd3-871d-dc3e9b78c4a4",
   "metadata": {},
   "outputs": [],
   "source": [
    "df_conus.to_csv(f'./projections/conus_daymet_pr.csv')\n",
    "df_conus"
   ]
  },
  {
   "cell_type": "code",
   "execution_count": null,
   "id": "bef667ce-b35a-4621-a59b-5e7912862c2d",
   "metadata": {},
   "outputs": [],
   "source": [
    "fig, ax = plt.subplots(1, 1, figsize=(15, 5))\n",
    "df_conus.rolling(365).mean().iloc[::1].plot(ax=ax)\n",
    "idfs['south'].rolling(365).mean().iloc[::1].plot(ax=ax)"
   ]
  },
  {
   "cell_type": "code",
   "execution_count": null,
   "id": "9970c40c-de63-4d4e-8824-77bdba7b7605",
   "metadata": {},
   "outputs": [],
   "source": []
  },
  {
   "cell_type": "code",
   "execution_count": null,
   "id": "46f99236-d433-469d-a536-5227d2ba09dc",
   "metadata": {},
   "outputs": [],
   "source": []
  },
  {
   "cell_type": "code",
   "execution_count": null,
   "id": "e31e6925-494b-4c02-be06-9176adc653af",
   "metadata": {},
   "outputs": [],
   "source": []
  }
 ],
 "metadata": {
  "kernelspec": {
   "display_name": "Python 3 (ipykernel)",
   "language": "python",
   "name": "python3"
  },
  "language_info": {
   "codemirror_mode": {
    "name": "ipython",
    "version": 3
   },
   "file_extension": ".py",
   "mimetype": "text/x-python",
   "name": "python",
   "nbconvert_exporter": "python",
   "pygments_lexer": "ipython3",
   "version": "3.9.18"
  }
 },
 "nbformat": 4,
 "nbformat_minor": 5
}
