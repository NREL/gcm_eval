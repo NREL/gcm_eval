{
 "cells": [
  {
   "cell_type": "markdown",
   "id": "09196158-33a8-414f-80c9-6a2b9739b7b5",
   "metadata": {},
   "source": [
    "# Collect sup3r Skill Outputs and Aggregate Per Region"
   ]
  },
  {
   "cell_type": "code",
   "execution_count": null,
   "id": "d2fe698d-6f03-4768-9720-438d3d76a564",
   "metadata": {},
   "outputs": [],
   "source": [
    "%load_ext autoreload\n",
    "%autoreload 2"
   ]
  },
  {
   "cell_type": "code",
   "execution_count": null,
   "id": "d7f1c6c1-bfe7-4bd8-b8c9-9a22b6628cf3",
   "metadata": {},
   "outputs": [],
   "source": [
    "import os\n",
    "from glob import glob\n",
    "import json\n",
    "import geopandas as gpd\n",
    "import pandas as pd\n",
    "import numpy as np\n",
    "import logging\n",
    "import matplotlib.pyplot as plt\n",
    "import xarray as xr\n",
    "\n",
    "from rex import Resource, init_logger\n",
    "from region_classifier import RegionClassifier\n",
    "\n",
    "from sup3r.preprocessing.data_handling.base import DataHandler\n",
    "from sup3r.preprocessing.data_handling import DataHandlerNCforCC\n",
    "from sup3r.preprocessing.data_handling import DataHandlerNCforCCwithPowerLaw\n",
    "from sup3r.bias.bias_calc import SkillAssessment\n",
    "\n",
    "from make_projection_summaries_cmip import (get_countries_shape, get_states_shape, get_eez_shape, get_fps, get_targets_shapes, \n",
    "                                            make_summary_files, FEATURES, MODELS, TAGS, REGIONS)\n",
    "\n",
    "DataHandlerNCforCC.CHUNKS = {'time': None, 'lat': None, 'lon': None}"
   ]
  },
  {
   "cell_type": "code",
   "execution_count": null,
   "id": "1c4815af-03e4-4897-84af-f001768b1971",
   "metadata": {},
   "outputs": [],
   "source": [
    "logger = logging.getLogger(__name__)\n",
    "init_logger(__name__)\n",
    "init_logger('make_projection_summaries')\n",
    "init_logger('sup3r', log_level='DEBUG')"
   ]
  },
  {
   "cell_type": "code",
   "execution_count": null,
   "id": "d50a7e8d-39a3-440d-afb9-a6ae90def480",
   "metadata": {},
   "outputs": [],
   "source": [
    "countries, countries_col = get_countries_shape()\n",
    "states, states_col = get_states_shape()\n",
    "eez, eez_col = get_eez_shape()"
   ]
  },
  {
   "cell_type": "code",
   "execution_count": null,
   "id": "32238f3c-dd2f-463e-a93b-499eeaf5c4b2",
   "metadata": {},
   "outputs": [],
   "source": [
    "with open('./file_paths.json', 'r') as f:\n",
    "    file_paths = json.load(f)"
   ]
  },
  {
   "cell_type": "code",
   "execution_count": null,
   "id": "e8e7bc71-d804-4fa3-9e41-9c111d36c054",
   "metadata": {},
   "outputs": [],
   "source": [
    "fp_base = '/projects/alcaps/gcm_eval/{}_historical*/*.h5'"
   ]
  },
  {
   "cell_type": "code",
   "execution_count": null,
   "id": "d78b93a7-47f7-496f-9b2c-248134012d63",
   "metadata": {},
   "outputs": [],
   "source": [
    "def add_data_to_df(i, df, data, mask, base_feature, bias_feature, model, tag, rname):\n",
    "    \n",
    "    df.at[i, 'gcm'] = model\n",
    "    df.at[i, 'tag'] = tag\n",
    "    df.at[i, 'region'] = rname\n",
    "    df.at[i, 'feature'] = bias_feature\n",
    "\n",
    "    df.at[i, 'hist_mean'] = data[f'base_{base_feature}_mean'][mask].mean()\n",
    "    df.at[i, 'hist_p1'] = data[f'base_{base_feature}_percentile_1'][mask].mean()\n",
    "    df.at[i, 'hist_p5'] = data[f'base_{base_feature}_percentile_5'][mask].mean()\n",
    "    df.at[i, 'hist_p50'] = data[f'base_{base_feature}_percentile_50'][mask].mean()\n",
    "    df.at[i, 'hist_p95'] = data[f'base_{base_feature}_percentile_95'][mask].mean()\n",
    "    df.at[i, 'hist_p99'] = data[f'base_{base_feature}_percentile_99'][mask].mean()\n",
    "    df.at[i, 'gcm_mean'] = data[f'bias_{bias_feature}_mean'][mask].mean()\n",
    "    df.at[i, 'gcm_p1'] = data[f'bias_{bias_feature}_percentile_1'][mask].mean()\n",
    "    df.at[i, 'gcm_p5'] = data[f'bias_{bias_feature}_percentile_5'][mask].mean()\n",
    "    df.at[i, 'gcm_p50'] = data[f'bias_{bias_feature}_percentile_50'][mask].mean()\n",
    "    df.at[i, 'gcm_p95'] = data[f'bias_{bias_feature}_percentile_95'][mask].mean()\n",
    "    df.at[i, 'gcm_p99'] = data[f'bias_{bias_feature}_percentile_99'][mask].mean()\n",
    "    \n",
    "    df.at[i, 'ks_stat'] = data[f'{bias_feature}_ks_stat'][mask].mean()\n",
    "    df.at[i, 'bias_mean'] = (data[f'bias_{bias_feature}_mean'][mask] - data[f'base_{base_feature}_mean'][mask]).mean()\n",
    "    df.at[i, 'bias_p1'] = (data[f'bias_{bias_feature}_percentile_1'][mask] - data[f'base_{base_feature}_percentile_1'][mask]).mean()\n",
    "    df.at[i, 'bias_p5'] = (data[f'bias_{bias_feature}_percentile_5'][mask] - data[f'base_{base_feature}_percentile_5'][mask]).mean()\n",
    "    df.at[i, 'bias_p50'] = (data[f'bias_{bias_feature}_percentile_50'][mask] - data[f'base_{base_feature}_percentile_50'][mask]).mean()\n",
    "    df.at[i, 'bias_p95'] = (data[f'bias_{bias_feature}_percentile_95'][mask] - data[f'base_{base_feature}_percentile_95'][mask]).mean()\n",
    "    df.at[i, 'bias_p99'] = (data[f'bias_{bias_feature}_percentile_99'][mask] - data[f'base_{base_feature}_percentile_99'][mask]).mean()\n",
    "\n",
    "    df.at[i, 'percent_bias_mean'] = 100 * df.at[i, 'bias_mean'] / df.at[i, 'hist_mean']\n",
    "    df.at[i, 'percent_bias_p1']   = 100 * df.at[i, 'bias_p1'] / df.at[i, 'hist_mean']\n",
    "    df.at[i, 'percent_bias_p5']   = 100 * df.at[i, 'bias_p5'] / df.at[i, 'hist_mean']\n",
    "    df.at[i, 'percent_bias_p50']  = 100 * df.at[i, 'bias_p50'] / df.at[i, 'hist_mean']\n",
    "    df.at[i, 'percent_bias_p95']  = 100 * df.at[i, 'bias_p95'] / df.at[i, 'hist_mean']\n",
    "    df.at[i, 'percent_bias_p99']  = 100 * df.at[i, 'bias_p99'] / df.at[i, 'hist_mean']\n",
    "\n",
    "    return df"
   ]
  },
  {
   "cell_type": "code",
   "execution_count": null,
   "id": "4b181ea3-8495-4953-853b-7a965b4fae94",
   "metadata": {},
   "outputs": [],
   "source": [
    "i = 0\n",
    "df = pd.DataFrame()\n",
    "\n",
    "dset_tags = ['ks_stat', '']\n",
    "\n",
    "for model, tag in zip(MODELS, TAGS):\n",
    "    print(model)\n",
    "    fps = glob(fp_base.format(tag))\n",
    "    \n",
    "    for fp in fps:\n",
    "        with Resource(fp) as res:\n",
    "            dsets = sorted(res.dsets)\n",
    "            base_feature = [d for d in dsets if d.startswith('base_')][0]\n",
    "            bias_feature = [d for d in dsets if d.startswith('bias_')][0]\n",
    "            base_feature = base_feature.replace('base_', '').replace('_kurtosis', '')\n",
    "            bias_feature = bias_feature.replace('bias_', '').replace('_kurtosis', '')\n",
    "            \n",
    "            data = {dset: res[dset] for dset in dsets}\n",
    "            lat = data['latitude']\n",
    "            lon = data['longitude']\n",
    "            meta = pd.DataFrame({'latitude': lat.flatten(), 'longitude': lon.flatten()})\n",
    "        \n",
    "        meta = RegionClassifier(meta, countries, countries_col).classify()\n",
    "        meta = RegionClassifier(meta, states, states_col).classify()\n",
    "        meta = RegionClassifier(meta, eez, eez_col).classify()\n",
    "        meta['atlantic'] = (meta[countries_col] == '-999') & (meta[eez_col] != '-999') & (meta['longitude'] < -105)\n",
    "        meta['gulf'] = (meta[countries_col] == '-999') & (meta[eez_col] != '-999') & (meta['longitude'] > -105) & (meta['longitude'] < -81)\n",
    "        meta['pacific'] = (meta[countries_col] == '-999') & (meta[eez_col] != '-999') & (meta['longitude'] > -81)\n",
    "    \n",
    "        for rname, rstates in REGIONS.items():\n",
    "            mask = np.isin(meta[states_col].values.reshape(lat.shape), rstates)\n",
    "            df = add_data_to_df(i, df, data, mask, base_feature, bias_feature, model, tag, rname)\n",
    "            i += 1\n",
    "\n",
    "        for rname in ['atlantic', 'pacific', 'gulf']:\n",
    "            mask = meta[rname].values.reshape(lat.shape)\n",
    "            df = add_data_to_df(i, df, data, mask, base_feature, bias_feature, model, tag, rname)\n",
    "            i += 1"
   ]
  },
  {
   "cell_type": "code",
   "execution_count": null,
   "id": "863b5804-bc07-4d2e-a011-14b3a70d0326",
   "metadata": {},
   "outputs": [],
   "source": [
    "df['feature'].unique()"
   ]
  },
  {
   "cell_type": "code",
   "execution_count": null,
   "id": "f6e36bff-263f-4c57-929d-39bf45499242",
   "metadata": {},
   "outputs": [],
   "source": [
    "df[df['feature'] == 'temperature_max_2m']"
   ]
  },
  {
   "cell_type": "code",
   "execution_count": null,
   "id": "f851d097-05c1-4c36-a6a7-499d99f019cb",
   "metadata": {},
   "outputs": [],
   "source": [
    "df.to_csv('./skill_summaries/skill_summary_all.csv')"
   ]
  },
  {
   "cell_type": "code",
   "execution_count": null,
   "id": "dd92d83a-2b91-46e6-8f07-b6756f52b2bb",
   "metadata": {},
   "outputs": [],
   "source": [
    "index = [\n",
    " 'pr',\n",
    " 'relativehumidity_2m',\n",
    " 'relativehumidity_max_2m',\n",
    " 'relativehumidity_min_2m',\n",
    " 'rsds',\n",
    " 'temperature_2m',\n",
    " 'temperature_max_2m',\n",
    " 'temperature_min_2m',\n",
    " 'windspeed_10m',\n",
    " 'windspeed_100m',\n",
    " 'windspeed_200m',\n",
    "]\n",
    "\n",
    "for region in df['region'].unique():\n",
    "    rstr = region.lower().replace(' ', '_')\n",
    "    mask = df['region'] == region\n",
    "    mask &= df['feature'].isin(index)\n",
    "\n",
    "    for metric in [col for col in df.columns if col not in ('gcm', 'tag', 'region', 'feature')]:\n",
    "        dfp = df[mask].pivot(index='gcm', columns='feature', values=metric).T.loc[index]\n",
    "        dfp.to_csv(f'./skill_summaries/skill_summary_{rstr}_{metric}.csv')"
   ]
  }
 ],
 "metadata": {
  "kernelspec": {
   "display_name": "Python 3 (ipykernel)",
   "language": "python",
   "name": "python3"
  },
  "language_info": {
   "codemirror_mode": {
    "name": "ipython",
    "version": 3
   },
   "file_extension": ".py",
   "mimetype": "text/x-python",
   "name": "python",
   "nbconvert_exporter": "python",
   "pygments_lexer": "ipython3",
   "version": "3.9.18"
  }
 },
 "nbformat": 4,
 "nbformat_minor": 5
}
