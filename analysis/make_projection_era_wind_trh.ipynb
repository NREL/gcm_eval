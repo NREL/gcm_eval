{
 "cells": [
  {
   "cell_type": "markdown",
   "id": "4eb4d534-0619-4618-a266-b4cb2f6d9ed5",
   "metadata": {},
   "source": [
    "# Make ERA5 Projection Data\n",
    "Collect ERA5 data and make projection files per region"
   ]
  },
  {
   "cell_type": "code",
   "execution_count": null,
   "id": "958fb244-860c-4e06-9f5a-722f60f00f54",
   "metadata": {},
   "outputs": [],
   "source": [
    "%load_ext autoreload\n",
    "%autoreload 2"
   ]
  },
  {
   "cell_type": "code",
   "execution_count": null,
   "id": "6e52c1e0-6026-42dc-ac98-73db969b4037",
   "metadata": {},
   "outputs": [],
   "source": [
    "import os\n",
    "from glob import glob\n",
    "import json\n",
    "import geopandas as gpd\n",
    "import pandas as pd\n",
    "import numpy as np\n",
    "import logging\n",
    "from concurrent.futures import ProcessPoolExecutor\n",
    "import matplotlib.pyplot as plt\n",
    "import xarray as xr\n",
    "\n",
    "from rex import Resource, MultiYearNSRDB, init_logger\n",
    "from region_classifier import RegionClassifier\n",
    "\n",
    "from sup3r.preprocessing.data_handling.base import DataHandler\n",
    "from sup3r.preprocessing.data_handling import DataHandlerNCforERA, DataHandlerNCforCC\n",
    "from sup3r.preprocessing.data_handling import DataHandlerNCforCCwithPowerLaw\n",
    "from sup3r.bias.bias_calc import SkillAssessment\n",
    "\n",
    "from make_projection_summaries_cmip import get_fps, get_countries_shape, get_states_shape, get_eez_shape, get_targets_shapes, make_summary_files, FEATURES, MODELS, TAGS, REGIONS\n",
    "\n",
    "DataHandlerNCforCC.CHUNKS = {'time': None, 'lat': None, 'lon': None}"
   ]
  },
  {
   "cell_type": "code",
   "execution_count": null,
   "id": "c295f3b0-0312-4d0e-b095-d9d01a81e53a",
   "metadata": {},
   "outputs": [],
   "source": [
    "logger = logging.getLogger(__name__)\n",
    "init_logger(__name__)\n",
    "init_logger('make_projection_summaries_cmip')\n",
    "init_logger('sup3r', log_level='DEBUG')"
   ]
  },
  {
   "cell_type": "code",
   "execution_count": null,
   "id": "a90782e4-a0b5-458d-8c15-79cef7d620d9",
   "metadata": {},
   "outputs": [],
   "source": [
    "fp_out = './projections/conus_era5_trh.csv'\n",
    "features = ['temperature_2m', 'relativehumidity_2m']\n",
    "fps = [f\"/projects/alcaps/era5_surface/era5_surface_{y}.nc\" for y in range(1980, 2020)]\n",
    "\n",
    "fp_out = './projections/conus_era5_windspeed_100m.csv'\n",
    "features = ['windspeed_100m']\n",
    "fps = [f\"/projects/alcaps/era5/conus/yearly/era5_uv_{y}_combined_all_interp.nc\" for y in range(2000, 2020)]"
   ]
  },
  {
   "cell_type": "code",
   "execution_count": null,
   "id": "8af8d0c6-e4ac-4df1-bc64-ac01d87647da",
   "metadata": {
    "scrolled": true
   },
   "outputs": [],
   "source": [
    "dh = DataHandlerNCforERA(fps, features)\n",
    "dh"
   ]
  },
  {
   "cell_type": "code",
   "execution_count": null,
   "id": "65bc8d41-c6e3-4a5c-b3e4-7b5e254db7b0",
   "metadata": {},
   "outputs": [],
   "source": [
    "countries, countries_col = get_countries_shape()\n",
    "states, states_col = get_states_shape()\n",
    "eez, eez_col = get_eez_shape()\n",
    "meta = RegionClassifier(dh.meta, countries, countries_col).classify()\n",
    "meta = RegionClassifier(meta, states, states_col).classify()\n",
    "meta = RegionClassifier(meta, eez, eez_col).classify()\n",
    "meta['atlantic'] = (meta[countries_col] == '-999') & (meta[eez_col] != '-999') & (meta['longitude'] < -105)\n",
    "meta['gulf'] = (meta[countries_col] == '-999') & (meta[eez_col] != '-999') & (meta['longitude'] > -105) & (meta['longitude'] < -81)\n",
    "meta['pacific'] = (meta[countries_col] == '-999') & (meta[eez_col] != '-999') & (meta['longitude'] > -81)"
   ]
  },
  {
   "cell_type": "code",
   "execution_count": null,
   "id": "0ec49caf-794d-4e63-a7e3-c55eab779bdb",
   "metadata": {},
   "outputs": [],
   "source": [
    "meta"
   ]
  },
  {
   "cell_type": "code",
   "execution_count": null,
   "id": "261e73c5-36ae-47b7-b87e-c405812702ae",
   "metadata": {},
   "outputs": [],
   "source": [
    "all_df = {}\n",
    "arr = dh.data.reshape((dh.data.shape[0]*dh.data.shape[1], dh.data.shape[2], dh.data.shape[3]))\n",
    "\n",
    "for rname, states in REGIONS.items():\n",
    "    iloc = np.where(meta['NAME'].isin(states))[0]\n",
    "\n",
    "    df = {dset: arr[iloc, :, idf].mean(0) for idf, dset in enumerate(dh.features)}\n",
    "    df = pd.DataFrame(df, index=dh.time_index)\n",
    "    all_df[rname] = df\n",
    "\n",
    "    r_fp_out = fp_out.replace('conus_', rname.lower().replace(' ', '_') + '_')\n",
    "    df.to_csv(r_fp_out)\n",
    "    logger.info(f'Finished writing: {r_fp_out}')\n",
    "\n",
    "for rname in ('atlantic', 'gulf', 'pacific'):\n",
    "    iloc = np.where(meta[rname])[0]\n",
    "    \n",
    "    df = {dset: arr[iloc, :, idf].mean(0) for idf, dset in enumerate(dh.features)}\n",
    "    df = pd.DataFrame(df, index=dh.time_index)\n",
    "    all_df[rname] = df\n",
    "\n",
    "    r_fp_out = fp_out.replace('conus_', rname.lower().replace(' ', '_') + '_')\n",
    "    df.to_csv(r_fp_out)\n",
    "    logger.info(f'Finished writing: {r_fp_out}')"
   ]
  },
  {
   "cell_type": "code",
   "execution_count": null,
   "id": "559c633c-33a3-44fa-8714-98c6af0a5913",
   "metadata": {},
   "outputs": [],
   "source": [
    "fig, ax = plt.subplots(1, 1, figsize=(15, 5))\n",
    "tslice=slice(4000, 4500)\n",
    "tslice=slice(-500, None)\n",
    "for rname, states in REGIONS.items():\n",
    "    df = all_df[rname]\n",
    "    plt.plot(df.loc[df.index.values[tslice], features[0]], label=rname)\n",
    "\n",
    "plt.legend()\n",
    "plt.show()\n",
    "plt.close()"
   ]
  },
  {
   "cell_type": "code",
   "execution_count": null,
   "id": "4db11e0e-d36a-486d-a451-a6a56722574d",
   "metadata": {},
   "outputs": [],
   "source": []
  }
 ],
 "metadata": {
  "kernelspec": {
   "display_name": "Python 3 (ipykernel)",
   "language": "python",
   "name": "python3"
  },
  "language_info": {
   "codemirror_mode": {
    "name": "ipython",
    "version": 3
   },
   "file_extension": ".py",
   "mimetype": "text/x-python",
   "name": "python",
   "nbconvert_exporter": "python",
   "pygments_lexer": "ipython3",
   "version": "3.9.18"
  }
 },
 "nbformat": 4,
 "nbformat_minor": 5
}
